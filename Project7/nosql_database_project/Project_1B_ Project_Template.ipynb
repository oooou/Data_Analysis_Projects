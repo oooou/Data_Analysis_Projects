{
 "cells": [
  {
   "cell_type": "markdown",
   "metadata": {},
   "source": [
    "# Part I. ETL Pipeline for Pre-Processing the Files"
   ]
  },
  {
   "cell_type": "markdown",
   "metadata": {},
   "source": [
    "## PLEASE RUN THE FOLLOWING CODE FOR PRE-PROCESSING THE FILES"
   ]
  },
  {
   "cell_type": "markdown",
   "metadata": {},
   "source": [
    "#### Import Python packages "
   ]
  },
  {
   "cell_type": "code",
   "execution_count": 1,
   "metadata": {},
   "outputs": [],
   "source": [
    "import pandas as pd\n",
    "import cassandra\n",
    "import re\n",
    "import os\n",
    "import glob\n",
    "import numpy as np\n",
    "import json\n",
    "import csv"
   ]
  },
  {
   "cell_type": "markdown",
   "metadata": {},
   "source": [
    "#### Creating list of filepaths to process original event csv data files"
   ]
  },
  {
   "cell_type": "code",
   "execution_count": 2,
   "metadata": {},
   "outputs": [
    {
     "name": "stdout",
     "output_type": "stream",
     "text": [
      "/Users/zhou/Desktop/Udacity_study/数据工程师项目文件/Cassandra项目/home\n"
     ]
    }
   ],
   "source": [
    "print(os.getcwd())\n",
    "filepath = os.getcwd() + '/event_data'\n",
    "\n",
    "\n",
    "for root, dirs, files in os.walk(filepath):\n",
    "    file_path_list = glob.glob(os.path.join(root,'*'))\n"
   ]
  },
  {
   "cell_type": "code",
   "execution_count": 3,
   "metadata": {},
   "outputs": [
    {
     "data": {
      "text/plain": [
       "['/Users/zhou/Desktop/Udacity_study/数据工程师项目文件/Cassandra项目/home/event_data/2018-11-15-events.csv',\n",
       " '/Users/zhou/Desktop/Udacity_study/数据工程师项目文件/Cassandra项目/home/event_data/2018-11-22-events.csv',\n",
       " '/Users/zhou/Desktop/Udacity_study/数据工程师项目文件/Cassandra项目/home/event_data/2018-11-09-events.csv',\n",
       " '/Users/zhou/Desktop/Udacity_study/数据工程师项目文件/Cassandra项目/home/event_data/2018-11-18-events.csv',\n",
       " '/Users/zhou/Desktop/Udacity_study/数据工程师项目文件/Cassandra项目/home/event_data/2018-11-04-events.csv']"
      ]
     },
     "execution_count": 3,
     "metadata": {},
     "output_type": "execute_result"
    }
   ],
   "source": [
    "file_path_list[0:5]"
   ]
  },
  {
   "cell_type": "markdown",
   "metadata": {},
   "source": [
    "#### Processing the files to create the data file csv that will be used for Apache Casssandra tables"
   ]
  },
  {
   "cell_type": "code",
   "execution_count": 11,
   "metadata": {},
   "outputs": [
    {
     "name": "stdout",
     "output_type": "stream",
     "text": [
      "8056\n"
     ]
    }
   ],
   "source": [
    "full_data_rows_list = [] \n",
    "    \n",
    "for f in file_path_list:\n",
    "    with open(f, 'r', encoding = 'utf8', newline='') as csvfile: \n",
    "        csvreader = csv.reader(csvfile) \n",
    "        next(csvreader)\n",
    "             \n",
    "        for line in csvreader:\n",
    "            full_data_rows_list.append(line) \n",
    "            \n",
    "print(len(full_data_rows_list))\n",
    "\n",
    "csv.register_dialect('myDialect', quoting=csv.QUOTE_ALL, skipinitialspace=True)\n",
    "\n",
    "with open('event_datafile_new.csv', 'w', encoding = 'utf8', newline='') as f:\n",
    "    writer = csv.writer(f, dialect='myDialect')\n",
    "    writer.writerow(['artist','firstName','gender','itemInSession','lastName','length',\\\n",
    "                'level','location','sessionId','song','userId'])\n",
    "    for row in full_data_rows_list:\n",
    "        if (row[0] == ''):\n",
    "            continue\n",
    "        writer.writerow((row[0], row[2], row[3], row[4], row[5], row[6], row[7], row[8], row[12], row[13], row[16]))\n"
   ]
  },
  {
   "cell_type": "code",
   "execution_count": 12,
   "metadata": {},
   "outputs": [
    {
     "name": "stdout",
     "output_type": "stream",
     "text": [
      "6821\n"
     ]
    }
   ],
   "source": [
    "\n",
    "with open('event_datafile_new.csv', 'r', encoding = 'utf8') as f:\n",
    "    print(sum(1 for line in f))"
   ]
  },
  {
   "cell_type": "markdown",
   "metadata": {},
   "source": [
    "# Part II. Complete the Apache Cassandra coding portion of your project. \n",
    "\n",
    "## Now you are ready to work with the CSV file titled <font color=red>event_datafile_new.csv</font>, located within the Workspace directory.  The event_datafile_new.csv contains the following columns: \n",
    "- artist \n",
    "- firstName of user\n",
    "- gender of user\n",
    "- item number in session\n",
    "- last name of user\n",
    "- length of the song\n",
    "- level (paid or free song)\n",
    "- location of the user\n",
    "- sessionId\n",
    "- song title\n",
    "- userId\n",
    "\n",
    "The image below is a screenshot of what the denormalized data should appear like in the <font color=red>**event_datafile_new.csv**</font> after the code above is run:<br>\n",
    "\n",
    "<img src=\"images/image_event_datafile_new.jpg\">"
   ]
  },
  {
   "cell_type": "markdown",
   "metadata": {},
   "source": [
    "## Begin writing your Apache Cassandra code in the cells below"
   ]
  },
  {
   "cell_type": "markdown",
   "metadata": {},
   "source": [
    "#### Creating a Cluster"
   ]
  },
  {
   "cell_type": "code",
   "execution_count": 13,
   "metadata": {},
   "outputs": [],
   "source": [
    "from cassandra.cluster import Cluster\n",
    "cluster = Cluster()\n",
    "\n",
    "session = cluster.connect()"
   ]
  },
  {
   "cell_type": "markdown",
   "metadata": {},
   "source": [
    "#### Create Keyspace"
   ]
  },
  {
   "cell_type": "code",
   "execution_count": 14,
   "metadata": {},
   "outputs": [
    {
     "data": {
      "text/plain": [
       "<cassandra.cluster.ResultSet at 0x1082edef0>"
      ]
     },
     "execution_count": 14,
     "metadata": {},
     "output_type": "execute_result"
    }
   ],
   "source": [
    "create_keyspace=\"\"\"CREATE KEYSPACE IF NOT EXISTS udacity  WITH REPLICATION = \n",
    "    { 'class' : 'SimpleStrategy', 'replication_factor' : 1 }\"\"\"\n",
    "session.execute(create_keyspace)"
   ]
  },
  {
   "cell_type": "markdown",
   "metadata": {},
   "source": [
    "#### Set Keyspace"
   ]
  },
  {
   "cell_type": "code",
   "execution_count": 15,
   "metadata": {},
   "outputs": [],
   "source": [
    "session.set_keyspace('udacity')"
   ]
  },
  {
   "cell_type": "markdown",
   "metadata": {},
   "source": [
    "### Now we need to create tables to run the following queries. Remember, with Apache Cassandra you model the database tables on the queries you want to run."
   ]
  },
  {
   "cell_type": "markdown",
   "metadata": {},
   "source": [
    "## Create queries to ask the following three questions of the data\n",
    "\n",
    "### 1. Give me the artist, song title and song's length in the music app history that was heard during  sessionId = 338, and itemInSession  = 4\n",
    "\n",
    "\n",
    "### 2. Give me only the following: name of artist, song (sorted by itemInSession) and user (first and last name) for userid = 10, sessionid = 182\n",
    "    \n",
    "\n",
    "### 3. Give me every user name (first and last) in my music app history who listened to the song 'All Hands Against His Own'\n",
    "\n",
    "\n"
   ]
  },
  {
   "cell_type": "code",
   "execution_count": 14,
   "metadata": {},
   "outputs": [],
   "source": [
    "df=pd.read_csv('./event_datafile_new.csv')"
   ]
  },
  {
   "cell_type": "markdown",
   "metadata": {},
   "source": [
    "## #TABLE1:artist_info\n",
    "description:\n",
    "\n",
    "Give me the artist, song title and song's length in the music app history that was heard during sessionId = 338, and itemInSession = 4\n",
    "\n",
    "### cell 1:\n",
    "- Since we want to SELECT out `artist`, `song title`, and `song's length` based on `sessionId `and `itemInSession`, we need to SET **parition key** as `(sessionId, itemInSession)`. \n",
    "- We name this table `artist_info`, to inform user this table explain some specific info about artist."
   ]
  },
  {
   "cell_type": "code",
   "execution_count": 15,
   "metadata": {},
   "outputs": [],
   "source": [
    "drop = \"\"\"DROP TABLE IF EXISTS artist_info\"\"\"\n",
    "query = \"\"\"CREATE TABLE IF NOT EXISTS artist_info (\n",
    "                    session_id INT,\n",
    "                    item_in_session INT,\n",
    "                    artist VARCHAR,\n",
    "                    song_title VARCHAR,\n",
    "                    length FLOAT,\n",
    "                    PRIMARY KEY((session_id, item_in_session))\n",
    "        )\"\"\"\n",
    "\n",
    "try:\n",
    "    session.execute(drop) \n",
    "    session.execute(query)       \n",
    "except Exception as e:\n",
    "    print(e)"
   ]
  },
  {
   "cell_type": "markdown",
   "metadata": {},
   "source": [
    "## #TABLE1:artist_info\n",
    "### cell 2:\n",
    "- Do a `INSERT` to fill in the table"
   ]
  },
  {
   "cell_type": "code",
   "execution_count": 16,
   "metadata": {
    "scrolled": false
   },
   "outputs": [],
   "source": [
    "file = 'event_datafile_new.csv'\n",
    "\n",
    "with open(file, encoding = 'utf8') as f:\n",
    "    csvreader = csv.reader(f)\n",
    "    next(csvreader) \n",
    "    \n",
    "    for line in csvreader:\n",
    "        query = \"\"\"INSERT INTO artist_info (session_id, item_in_session, artist, song_title, length)\"\"\"\n",
    "        query = query + \"Values (\" + ','.join(['%s']*5) + ')'\n",
    "        try:\n",
    "            session.execute(query, (int(line[3]), int(line[8]), line[0], line[9], float(line[5])))\n",
    "        except Exception as e:\n",
    "            print(e)"
   ]
  },
  {
   "cell_type": "markdown",
   "metadata": {},
   "source": [
    "## #TABLE1:artist_info\n",
    "### cell 3:\n",
    "- Do a `SELECT` to verify that the data have been inserted into each table"
   ]
  },
  {
   "cell_type": "code",
   "execution_count": 17,
   "metadata": {
    "scrolled": true
   },
   "outputs": [
    {
     "name": "stdout",
     "output_type": "stream",
     "text": [
      "Row(artist='Faithless', song_title='Music Matters (Mark Knight Dub)', length=495.30731201171875)\n"
     ]
    }
   ],
   "source": [
    "query = \"\"\"SELECT artist, song_title, length FROM artist_info WHERE item_in_session = %s and session_id = %s\"\"\"\n",
    "\n",
    "try:\n",
    "    rows = session.execute(query, (338, 4))\n",
    "except Exception as e:\n",
    "    print(e)\n",
    "    \n",
    "for row in rows:\n",
    "    print(row)"
   ]
  },
  {
   "cell_type": "markdown",
   "metadata": {},
   "source": [
    "### COPY AND REPEAT THE ABOVE THREE CELLS FOR EACH OF THE THREE QUESTIONS"
   ]
  },
  {
   "cell_type": "markdown",
   "metadata": {},
   "source": [
    "## #TABLE2:user_listening_history\n",
    "description:\n",
    "\n",
    "Give me only the following: name of artist, song (sorted by itemInSession) and user (first and last name) for userid = 10, sessionid = 182\n",
    "### cell 1:\n",
    "- Since we want to SELECT out `artist`, `song title`, `user` based on `userId `and `itemInSession`, we need to SET **partition key** as `(userId, itemInSession)`. \n",
    "- We also want what outcomes sorted by `itemInSession`, so we make it **clustering columns**. Adding `itemInSession` provdes enough identification for every single clue, so we don't need any further clustering columns\n",
    "- We named this table `user_listening_history` as it uses some user information to find listening histories."
   ]
  },
  {
   "cell_type": "code",
   "execution_count": 18,
   "metadata": {},
   "outputs": [],
   "source": [
    "drop = \"\"\"DROP TABLE IF EXISTS user_listening_history\"\"\"\n",
    "query = \"\"\"CREATE TABLE IF NOT EXISTS user_listening_history (\n",
    "                    user_id INT,\n",
    "                    session_id INT,\n",
    "                    artist VARCHAR,\n",
    "                    item_in_session INT,\n",
    "                    song_title VARCHAR, \n",
    "                    user VARCHAR,\n",
    "                    PRIMARY KEY((user_id, session_id), item_in_session)\n",
    "        )\"\"\"\n",
    "try:\n",
    "    session.execute(drop) \n",
    "    session.execute(query)       \n",
    "except Exception as e:\n",
    "    print(e)\n"
   ]
  },
  {
   "cell_type": "markdown",
   "metadata": {},
   "source": [
    "## #TABLE2:user_listening_history\n",
    "### cell 2:\n",
    "- Do a `INSERT` to fill in the table"
   ]
  },
  {
   "cell_type": "code",
   "execution_count": 19,
   "metadata": {},
   "outputs": [],
   "source": [
    "file = 'event_datafile_new.csv'\n",
    "\n",
    "with open(file, encoding = 'utf8') as f:\n",
    "    csvreader = csv.reader(f)\n",
    "    next(csvreader) # skip header\n",
    "    for line in csvreader:\n",
    "        query2 = \"\"\"INSERT INTO user_listening_history (user_id, session_id, artist, item_in_session, song_title, user)\"\"\"\n",
    "        query2 = query2 + \"Values (\" + ','.join(['%s']*6) + ')'\n",
    "        try:\n",
    "            session.execute(query2, (int(line[10]), int(line[8]), line[0], int(line[3]), line[9], line[1]+' '+line[4]))\n",
    "        except Exception as e:\n",
    "            print(e)"
   ]
  },
  {
   "cell_type": "markdown",
   "metadata": {},
   "source": [
    "## #TABLE2:user_listening_history\n",
    "### cell 3:\n",
    "- Do a `SELECT` to verify that the data have been inserted into each table"
   ]
  },
  {
   "cell_type": "code",
   "execution_count": 20,
   "metadata": {},
   "outputs": [
    {
     "name": "stdout",
     "output_type": "stream",
     "text": [
      "Row(artist='Down To The Bone', song_title=\"Keep On Keepin' On\", user='Sylvie Cruz')\n",
      "Row(artist='Three Drives', song_title='Greece 2000', user='Sylvie Cruz')\n",
      "Row(artist='Sebastien Tellier', song_title='Kilometer', user='Sylvie Cruz')\n",
      "Row(artist='Lonnie Gordon', song_title='Catch You Baby (Steve Pitron & Max Sanna Radio Edit)', user='Sylvie Cruz')\n"
     ]
    }
   ],
   "source": [
    "query2 = \"\"\"SELECT artist, song_title, user FROM user_listening_history WHERE user_id = %s and session_id = %s \"\"\"\n",
    "\n",
    "try:\n",
    "    rows = session.execute(query2, (10, 182))\n",
    "except Exception as e:\n",
    "    print(e)\n",
    "    \n",
    "for row in rows:\n",
    "    print(row)"
   ]
  },
  {
   "cell_type": "markdown",
   "metadata": {},
   "source": [
    "## #TABLE3:song_audience\n",
    "description:\n",
    "\n",
    "Give me every user name (first and last) in my music app history who listened to the song 'All Hands Against His Own'\n",
    "### cell 1:\n",
    "- Since we want to SELECT out `song title`, `user` based on `song title`, we need to SET **partition key** as `song title`.\n",
    "- We also want all users are listed in the output, so we make `user` **clustering columns**. \n",
    "- We named this table `song_audience` as it uses song title to retrieve it's audience users."
   ]
  },
  {
   "cell_type": "code",
   "execution_count": 21,
   "metadata": {},
   "outputs": [],
   "source": [
    "drop = \"\"\"DROP TABLE IF EXISTS song_audience\"\"\"\n",
    "query3 = \"\"\"CREATE TABLE IF NOT EXISTS song_audience (\n",
    "                    song_title VARCHAR,\n",
    "                    user VARCHAR,\n",
    "                    PRIMARY KEY(song_title, user)\n",
    "        )\"\"\"\n",
    "\n",
    "try:\n",
    "    session.execute(drop) \n",
    "    session.execute(query3)       \n",
    "except Exception as e:\n",
    "    print(e)\n",
    "              "
   ]
  },
  {
   "cell_type": "markdown",
   "metadata": {},
   "source": [
    "## #TABLE3:song_audience\n",
    "### cell 2:\n",
    "- Do a `INSERT` to fill in the table"
   ]
  },
  {
   "cell_type": "code",
   "execution_count": 22,
   "metadata": {},
   "outputs": [],
   "source": [
    "file = 'event_datafile_new.csv'\n",
    "\n",
    "with open(file, encoding = 'utf8') as f:\n",
    "    csvreader = csv.reader(f)\n",
    "    next(csvreader) \n",
    "    for line in csvreader:\n",
    "        query3 = \"\"\"INSERT INTO song_audience ( song_title, user)\"\"\"\n",
    "        query3 = query3 + \"Values (\" + ','.join(['%s']*2) + ')'\n",
    "        try:\n",
    "            session.execute(query3, ( line[9], line[1]+' '+line[4]))\n",
    "        except Exception as e:\n",
    "            print(e)\n",
    "     "
   ]
  },
  {
   "cell_type": "markdown",
   "metadata": {},
   "source": [
    "## #TABLE3:song_audience\n",
    "### cell 3:\n",
    "- Do a `SELECT` to verify that the data have been inserted into each table"
   ]
  },
  {
   "cell_type": "code",
   "execution_count": 23,
   "metadata": {},
   "outputs": [
    {
     "name": "stdout",
     "output_type": "stream",
     "text": [
      "Row(user='Jacqueline Lynch')\n",
      "Row(user='Sara Johnson')\n",
      "Row(user='Tegan Levine')\n"
     ]
    }
   ],
   "source": [
    "query3 = \"\"\"SELECT user FROM song_audience WHERE song_title=%s\"\"\"\n",
    "\n",
    "try:\n",
    "    rows = session.execute(query3, ('All Hands Against His Own',))\n",
    "except Exception as e:\n",
    "    print(e)\n",
    "    \n",
    "for row in rows:\n",
    "    print(row)\n"
   ]
  },
  {
   "cell_type": "markdown",
   "metadata": {},
   "source": [
    "### Drop the tables before closing out the sessions"
   ]
  },
  {
   "cell_type": "code",
   "execution_count": 24,
   "metadata": {},
   "outputs": [
    {
     "name": "stdout",
     "output_type": "stream",
     "text": [
      "name 'i' is not defined\n"
     ]
    }
   ],
   "source": [
    "drop = \"DROP TABLE IF EXISTS \"\n",
    "try:\n",
    "    for table in [\"artist_info\", \"user_listening_history\", \"song_audience\"]:\n",
    "        session.execute(drop+str(i))\n",
    "except Exception as e:\n",
    "    print(e)"
   ]
  },
  {
   "cell_type": "markdown",
   "metadata": {},
   "source": [
    "### Close the session and cluster connection¶"
   ]
  },
  {
   "cell_type": "code",
   "execution_count": 25,
   "metadata": {},
   "outputs": [],
   "source": [
    "session.shutdown()\n",
    "cluster.shutdown()"
   ]
  },
  {
   "cell_type": "code",
   "execution_count": null,
   "metadata": {},
   "outputs": [],
   "source": []
  },
  {
   "cell_type": "code",
   "execution_count": null,
   "metadata": {},
   "outputs": [],
   "source": []
  },
  {
   "cell_type": "code",
   "execution_count": null,
   "metadata": {},
   "outputs": [],
   "source": []
  },
  {
   "cell_type": "code",
   "execution_count": null,
   "metadata": {},
   "outputs": [],
   "source": []
  }
 ],
 "metadata": {
  "kernelspec": {
   "display_name": "Python 3",
   "language": "python",
   "name": "python3"
  },
  "language_info": {
   "codemirror_mode": {
    "name": "ipython",
    "version": 3
   },
   "file_extension": ".py",
   "mimetype": "text/x-python",
   "name": "python",
   "nbconvert_exporter": "python",
   "pygments_lexer": "ipython3",
   "version": "3.6.8"
  }
 },
 "nbformat": 4,
 "nbformat_minor": 2
}
